{
 "cells": [
  {
   "cell_type": "markdown",
   "id": "abb245f9-9860-4de3-8314-acf069f5400c",
   "metadata": {},
   "source": [
    "## Amount of Sales"
   ]
  },
  {
   "cell_type": "code",
   "execution_count": null,
   "id": "ddcb0f9d-674d-4d46-8324-a6787f9bd470",
   "metadata": {},
   "outputs": [],
   "source": [
    "import pandas as pd\n",
    "import matplotlib.pyplot as plt\n",
    "import ipywidgets as widgets\n",
    "\n",
    "# Carregar os dados\n",
    "df = pd.read_csv('C:/Users/profc/OneDrive/Cursos/DSA/E-Gov Analytics/dados/sales_data.csv', index_col=0)\n",
    "\n",
    "# Calcular as vendas\n",
    "df['Sales'] = df['Quantity Ordered'] * df['Price Each']\n",
    "\n",
    "# Criar widgets Dropdown para cidade e produto\n",
    "wid_city = widgets.Dropdown(name='city')\n",
    "wid_city.options = ['All'] + list(df.City.unique())  # Adicionar 'All' às opções\n",
    "\n",
    "wid_product = widgets.Dropdown(name='product')\n",
    "wid_product.options = ['All'] + list(df.Product.unique())  # Adicionar 'All' às opções\n",
    "\n",
    "def func(city, product):\n",
    "    if city is not None and product is not None:\n",
    "    \n",
    "        # Filtrar o DataFrame com base na seleção do usuário\n",
    "        if city == 'All' and product == 'All':\n",
    "            df_tmp = df.copy()  # Nenhum filtro aplicado\n",
    "        elif city == 'All':\n",
    "            df_tmp = df[df['Product'] == product]\n",
    "        elif product == 'All':\n",
    "            df_tmp = df[df['City'] == city]\n",
    "        else:\n",
    "            df_tmp = df[(df['City'] == city) & (df['Product'] == product)]\n",
    "    \n",
    "        # Agrupar por mês e plotar o gráfico de vendas\n",
    "        ax = df_tmp.groupby(['Month']).sum()['Sales'].plot(kind='bar')\n",
    "        plt.ylabel('Sales ($)')\n",
    "        plt.xlabel('Month')\n",
    "        plt.show()\n",
    "\n",
    "# Criar o widget interativo\n",
    "interactive_plot = widgets.interactive(func, city=wid_city, product=wid_product)\n",
    "\n",
    "# Ajustar a altura do output\n",
    "output = interactive_plot.children[-1]\n",
    "output.layout.height = '500px'\n",
    "\n",
    "# Exibir o widget interativo\n",
    "interactive_plot"
   ]
  }
 ],
 "metadata": {
  "kernelspec": {
   "display_name": "Python 3 (ipykernel)",
   "language": "python",
   "name": "python3"
  },
  "language_info": {
   "codemirror_mode": {
    "name": "ipython",
    "version": 3
   },
   "file_extension": ".py",
   "mimetype": "text/x-python",
   "name": "python",
   "nbconvert_exporter": "python",
   "pygments_lexer": "ipython3",
   "version": "3.11.7"
  },
  "widgets": {
   "application/vnd.jupyter.widget-state+json": {
    "state": {},
    "version_major": 2,
    "version_minor": 0
   }
  }
 },
 "nbformat": 4,
 "nbformat_minor": 5
}
